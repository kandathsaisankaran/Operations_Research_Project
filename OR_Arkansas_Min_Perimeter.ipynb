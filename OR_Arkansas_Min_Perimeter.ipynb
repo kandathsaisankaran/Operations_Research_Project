{
  "nbformat": 4,
  "nbformat_minor": 0,
  "metadata": {
    "colab": {
      "provenance": [],
      "toc_visible": true
    },
    "kernelspec": {
      "name": "python3",
      "display_name": "Python 3"
    },
    "language_info": {
      "name": "python"
    }
  },
  "cells": [
    {
      "cell_type": "code",
      "execution_count": null,
      "metadata": {
        "id": "PLH_j4Gh3t9X"
      },
      "outputs": [],
      "source": [
        "from gerrychain import Graph"
      ]
    },
    {
      "cell_type": "code",
      "source": [
        "!pip install gerrychain"
      ],
      "metadata": {
        "colab": {
          "base_uri": "https://localhost:8080/"
        },
        "id": "CN1HI9lL-ehd",
        "outputId": "4d3c3c4a-0873-41b8-e777-2e8d11e9c006"
      },
      "execution_count": null,
      "outputs": [
        {
          "output_type": "stream",
          "name": "stdout",
          "text": [
            "Requirement already satisfied: gerrychain in /usr/local/lib/python3.10/dist-packages (0.2.22)\n",
            "Requirement already satisfied: pandas in /usr/local/lib/python3.10/dist-packages (from gerrychain) (1.5.3)\n",
            "Requirement already satisfied: scipy in /usr/local/lib/python3.10/dist-packages (from gerrychain) (1.11.4)\n",
            "Requirement already satisfied: networkx in /usr/local/lib/python3.10/dist-packages (from gerrychain) (3.2.1)\n",
            "Requirement already satisfied: matplotlib in /usr/local/lib/python3.10/dist-packages (from gerrychain) (3.7.1)\n",
            "Requirement already satisfied: contourpy>=1.0.1 in /usr/local/lib/python3.10/dist-packages (from matplotlib->gerrychain) (1.2.0)\n",
            "Requirement already satisfied: cycler>=0.10 in /usr/local/lib/python3.10/dist-packages (from matplotlib->gerrychain) (0.12.1)\n",
            "Requirement already satisfied: fonttools>=4.22.0 in /usr/local/lib/python3.10/dist-packages (from matplotlib->gerrychain) (4.46.0)\n",
            "Requirement already satisfied: kiwisolver>=1.0.1 in /usr/local/lib/python3.10/dist-packages (from matplotlib->gerrychain) (1.4.5)\n",
            "Requirement already satisfied: numpy>=1.20 in /usr/local/lib/python3.10/dist-packages (from matplotlib->gerrychain) (1.23.5)\n",
            "Requirement already satisfied: packaging>=20.0 in /usr/local/lib/python3.10/dist-packages (from matplotlib->gerrychain) (23.2)\n",
            "Requirement already satisfied: pillow>=6.2.0 in /usr/local/lib/python3.10/dist-packages (from matplotlib->gerrychain) (9.4.0)\n",
            "Requirement already satisfied: pyparsing>=2.3.1 in /usr/local/lib/python3.10/dist-packages (from matplotlib->gerrychain) (3.1.1)\n",
            "Requirement already satisfied: python-dateutil>=2.7 in /usr/local/lib/python3.10/dist-packages (from matplotlib->gerrychain) (2.8.2)\n",
            "Requirement already satisfied: pytz>=2020.1 in /usr/local/lib/python3.10/dist-packages (from pandas->gerrychain) (2023.3.post1)\n",
            "Requirement already satisfied: six>=1.5 in /usr/local/lib/python3.10/dist-packages (from python-dateutil>=2.7->matplotlib->gerrychain) (1.16.0)\n"
          ]
        }
      ]
    },
    {
      "cell_type": "code",
      "source": [
        "from gerrychain import Graph\n",
        "\n",
        "filepath = '/content/'\n",
        "filename = 'Arkansas_county.json'\n",
        "\n",
        "file_path = filepath + filename\n",
        "G = Graph.from_json(file_path)\n"
      ],
      "metadata": {
        "id": "GTNMKD5j4ApB"
      },
      "execution_count": null,
      "outputs": []
    },
    {
      "cell_type": "code",
      "source": [
        "for node, node_data in G.nodes(data=True):\n",
        "    node_data['TOTPOP'] = node_data['P0010001']"
      ],
      "metadata": {
        "id": "UjWPSXOg4WZW"
      },
      "execution_count": null,
      "outputs": []
    },
    {
      "cell_type": "code",
      "source": [
        "import math\n",
        "deviation = 0.01\n",
        "num_partitions = 4\n",
        "\n",
        "total_population = sum(G.nodes[node]['TOTPOP'] for node in G.nodes)\n",
        "\n",
        "lower_bound = math.ceil((1 - deviation / 2) * total_population / num_partitions)\n",
        "upper_bound = math.floor((1 + deviation / 2) * total_population / num_partitions)\n",
        "\n",
        "print(f\"Using Lower Bound = {lower_bound}, Upper Bound = {upper_bound}, and k = {num_partitions}\")\n"
      ],
      "metadata": {
        "colab": {
          "base_uri": "https://localhost:8080/"
        },
        "id": "rxoSbtQj46U2",
        "outputId": "89f9c257-df51-4961-d8c8-f1c29e4eceed"
      },
      "execution_count": null,
      "outputs": [
        {
          "output_type": "stream",
          "name": "stdout",
          "text": [
            "Using Lower Bound = 749117, Upper Bound = 756645, and k = 4\n"
          ]
        }
      ]
    },
    {
      "cell_type": "code",
      "source": [
        "# Install Gurobi\n",
        "!apt-get install -y -qq software-properties-common\n",
        "!add-apt-repository -y ppa:deadsnakes/ppa\n",
        "!apt-get update -y -qq\n",
        "!apt-get install -y -qq gurobi gurobi9 libgurobi9\n",
        "\n",
        "# Install Gurobi Python Interface\n",
        "!python3 -m pip install gurobipy"
      ],
      "metadata": {
        "colab": {
          "base_uri": "https://localhost:8080/"
        },
        "id": "jcVxlqAiFrWs",
        "outputId": "e8769f20-c471-4fae-ea0b-73609dda49bd"
      },
      "execution_count": null,
      "outputs": [
        {
          "output_type": "stream",
          "name": "stdout",
          "text": [
            "Repository: 'deb https://ppa.launchpadcontent.net/deadsnakes/ppa/ubuntu/ jammy main'\n",
            "Description:\n",
            "This PPA contains more recent Python versions packaged for Ubuntu.\n",
            "\n",
            "Disclaimer: there's no guarantee of timely updates in case of security problems or other issues. If you want to use them in a security-or-otherwise-critical environment (say, on a production server), you do so at your own risk.\n",
            "\n",
            "Update Note\n",
            "===========\n",
            "Please use this repository instead of ppa:fkrull/deadsnakes.\n",
            "\n",
            "Reporting Issues\n",
            "================\n",
            "\n",
            "Issues can be reported in the master issue tracker at:\n",
            "https://github.com/deadsnakes/issues/issues\n",
            "\n",
            "Supported Ubuntu and Python Versions\n",
            "====================================\n",
            "\n",
            "- Ubuntu 20.04 (focal) Python3.5 - Python3.7, Python3.9 - Python3.13\n",
            "- Ubuntu 22.04 (jammy) Python3.7 - Python3.9, Python3.11 - Python3.13\n",
            "- Note: Python2.7 (all), Python 3.8 (focal), Python 3.10 (jammy) are not provided by deadsnakes as upstream ubuntu provides those packages.\n",
            "\n",
            "Why some packages aren't built:\n",
            "- Note: for focal, older python versions require libssl<1.1 so they are not currently built\n",
            "- Note: for jammy, older python versions requre libssl<3 so they are not currently built\n",
            "- If you need these, reach out to asottile to set up a private ppa\n",
            "\n",
            "The packages may also work on other versions of Ubuntu or Debian, but that is not tested or supported.\n",
            "\n",
            "Packages\n",
            "========\n",
            "\n",
            "The packages provided here are loosely based on the debian upstream packages with some modifications to make them more usable as non-default pythons and on ubuntu.  As such, the packages follow debian's patterns and often do not include a full python distribution with just `apt install python#.#`.  Here is a list of packages that may be useful along with the default install:\n",
            "\n",
            "- `python#.#-dev`: includes development headers for building C extensions\n",
            "- `python#.#-venv`: provides the standard library `venv` module\n",
            "- `python#.#-distutils`: provides the standard library `distutils` module\n",
            "- `python#.#-lib2to3`: provides the `2to3-#.#` utility as well as the standard library `lib2to3` module\n",
            "- `python#.#-gdbm`: provides the standard library `dbm.gnu` module\n",
            "- `python#.#-tk`: provides the standard library `tkinter` module\n",
            "\n",
            "Third-Party Python Modules\n",
            "==========================\n",
            "\n",
            "Python modules in the official Ubuntu repositories are packaged to work with the Python interpreters from the official repositories. Accordingly, they generally won't work with the Python interpreters from this PPA. As an exception, pure-Python modules for Python 3 will work, but any compiled extension modules won't.\n",
            "\n",
            "To install 3rd-party Python modules, you should use the common Python packaging tools.  For an introduction into the Python packaging ecosystem and its tools, refer to the Python Packaging User Guide:\n",
            "https://packaging.python.org/installing/\n",
            "\n",
            "Sources\n",
            "=======\n",
            "The package sources are available at:\n",
            "https://github.com/deadsnakes/\n",
            "\n",
            "Nightly Builds\n",
            "==============\n",
            "\n",
            "For nightly builds, see ppa:deadsnakes/nightly https://launchpad.net/~deadsnakes/+archive/ubuntu/nightly\n",
            "More info: https://launchpad.net/~deadsnakes/+archive/ubuntu/ppa\n",
            "Adding repository.\n",
            "Found existing deb entry in /etc/apt/sources.list.d/deadsnakes-ubuntu-ppa-jammy.list\n",
            "Adding deb entry to /etc/apt/sources.list.d/deadsnakes-ubuntu-ppa-jammy.list\n",
            "Found existing deb-src entry in /etc/apt/sources.list.d/deadsnakes-ubuntu-ppa-jammy.list\n",
            "Adding disabled deb-src entry to /etc/apt/sources.list.d/deadsnakes-ubuntu-ppa-jammy.list\n",
            "Adding key to /etc/apt/trusted.gpg.d/deadsnakes-ubuntu-ppa.gpg with fingerprint F23C5A6CF475977595C89F51BA6932366A755776\n",
            "Get:1 http://security.ubuntu.com/ubuntu jammy-security InRelease [110 kB]\n",
            "Get:2 https://cloud.r-project.org/bin/linux/ubuntu jammy-cran40/ InRelease [3,626 B]\n",
            "Hit:3 https://developer.download.nvidia.com/compute/cuda/repos/ubuntu2204/x86_64  InRelease\n",
            "Hit:4 https://ppa.launchpadcontent.net/c2d4u.team/c2d4u4.0+/ubuntu jammy InRelease\n",
            "Hit:5 https://ppa.launchpadcontent.net/deadsnakes/ppa/ubuntu jammy InRelease\n",
            "Hit:6 http://archive.ubuntu.com/ubuntu jammy InRelease\n",
            "Hit:7 https://ppa.launchpadcontent.net/graphics-drivers/ppa/ubuntu jammy InRelease\n",
            "Hit:8 https://ppa.launchpadcontent.net/ubuntugis/ppa/ubuntu jammy InRelease\n",
            "Get:9 http://archive.ubuntu.com/ubuntu jammy-updates InRelease [119 kB]\n",
            "Hit:10 http://archive.ubuntu.com/ubuntu jammy-backports InRelease\n",
            "Get:11 http://archive.ubuntu.com/ubuntu jammy-updates/universe amd64 Packages [1,304 kB]\n",
            "Fetched 1,536 kB in 3s (524 kB/s)\n",
            "Reading package lists... Done\n",
            "E: Unable to locate package gurobi\n",
            "E: Unable to locate package gurobi9\n",
            "E: Unable to locate package libgurobi9\n",
            "Requirement already satisfied: gurobipy in /usr/local/lib/python3.10/dist-packages (11.0.0)\n"
          ]
        }
      ]
    },
    {
      "cell_type": "code",
      "source": [
        "import gurobipy as gp\n",
        "from gurobipy import GRB\n",
        "\n",
        "# Create model\n",
        "model = gp.Model()\n",
        "\n",
        "# Create variables\n",
        "x = model.addVars(G.nodes, num_partitions, vtype=GRB.BINARY)  # x[i, j] equals one when county i is assigned to district j\n",
        "y = model.addVars(G.edges, vtype=GRB.BINARY)     # y[u, v] equals one when edge {u, v} is cut\n"
      ],
      "metadata": {
        "id": "wFKeTKO05FiN"
      },
      "execution_count": null,
      "outputs": []
    },
    {
      "cell_type": "code",
      "source": [
        "model.setObjective(gp.quicksum(G.edges[u, v]['shared_perim'] * y[u, v] for u, v in G.edges), GRB.MINIMIZE)\n"
      ],
      "metadata": {
        "id": "hyBp3zMn5ZYp"
      },
      "execution_count": null,
      "outputs": []
    },
    {
      "cell_type": "code",
      "source": [
        "# Constraints ensuring that each county is assigned to precisely one district\n",
        "model.addConstrs(gp.quicksum(x[i, j] for j in range(num_partitions)) == 1 for i in G.nodes)\n",
        "\n",
        "# Constraints ensuring that each district has population of at least L and at most U\n",
        "model.addConstrs(gp.quicksum(G.nodes[i]['TOTPOP'] * x[i, j] for i in G.nodes) >= lower_bound  for j in range(num_partitions))\n",
        "model.addConstrs(gp.quicksum(G.nodes[i]['TOTPOP'] * x[i, j] for i in G.nodes) <= upper_bound for j in range(num_partitions))\n",
        "\n",
        "# Constraints indicating that an edge {u, v} is cut if u is assigned to district j but v is not\n",
        "model.addConstrs(x[u, j] - x[v, j] <= y[u, v] for u, v in G.edges for j in range(num_partitions))\n",
        "\n",
        "model.update()\n"
      ],
      "metadata": {
        "id": "UrHESQMR6aS6"
      },
      "execution_count": null,
      "outputs": []
    },
    {
      "cell_type": "code",
      "source": [
        "# Add root variables: r[i, j] equals 1 if node i is the \"root\" of district j\n",
        "root_vars = model.addVars(G.nodes, num_partitions, vtype=GRB.BINARY)\n",
        "\n",
        "# Fix certain district roots to solve the MIP faster:\n",
        "root_vars[20, 0].LB = 1  # fix Oklahoma county as root of district 0\n",
        "root_vars[37, 1].LB = 1  # fix Tulsa county as root of district 1\n",
        "root_vars[62, 2].LB = 1  # fix Comanche county as root of district 2\n",
        "root_vars[56, 3].LB = 1\n",
        "\n",
        "# Add flow variables: f[u, v] = amount of flow sent across arc uv\n",
        "# Flows are routed over arcs of the directed form of G, denoted as DG\n",
        "\n",
        "import networkx as nx\n",
        "DG = nx.DiGraph(G)  # directed version of G\n",
        "\n",
        "flow_vars = model.addVars(DG.edges)\n"
      ],
      "metadata": {
        "id": "1qGXp4x_6jHU"
      },
      "execution_count": null,
      "outputs": []
    },
    {
      "cell_type": "code",
      "source": [
        "# The big-M suggested by Hojny et al.\n",
        "M = G.number_of_nodes() - num_partitions + 1\n",
        "\n",
        "# Every district needs to have only one root\n",
        "model.addConstrs(gp.quicksum(root_vars[i, j] for i in G.nodes) == 1 for j in range(num_partitions))\n",
        "\n",
        "# Node i cannot be the root of district j if it isn't assigned to it\n",
        "model.addConstrs(root_vars[i, j] <= x[i, j] for i in G.nodes for j in range(num_partitions))\n",
        "\n",
        "# Consume some flow if there isn't a root\n",
        "# Send out (so much) flow only if there is a root\n",
        "model.addConstrs(gp.quicksum(flow_vars[j, i] - flow_vars[i, j] for j in G.neighbors(i)) >= 1 - M * gp.quicksum(root_vars[i, j] for j in range(num_partitions)) for i in G.nodes)\n",
        "\n",
        "# Flow should not be sent over cut edges\n",
        "model.addConstrs(flow_vars[i, j] + flow_vars[j, i] <= M * (1 - y[i, j]) for i, j in G.edges)\n",
        "\n",
        "model.update()\n"
      ],
      "metadata": {
        "id": "aMCKOk4L6vAN"
      },
      "execution_count": null,
      "outputs": []
    },
    {
      "cell_type": "code",
      "source": [
        "model.optimize()"
      ],
      "metadata": {
        "colab": {
          "base_uri": "https://localhost:8080/"
        },
        "id": "8LNuJAry7mAQ",
        "outputId": "56b39333-d09a-4f8f-d92f-559cfddc805e"
      },
      "execution_count": null,
      "outputs": [
        {
          "output_type": "stream",
          "name": "stdout",
          "text": [
            "Gurobi Optimizer version 11.0.0 build v11.0.0rc2 (linux64 - \"Ubuntu 22.04.3 LTS\")\n",
            "\n",
            "CPU model: Intel(R) Xeon(R) CPU @ 2.20GHz, instruction set [SSE2|AVX|AVX2]\n",
            "Thread count: 1 physical cores, 2 logical processors, using up to 2 threads\n",
            "\n",
            "Optimize a model with 1422 rows, 1176 columns and 5748 nonzeros\n",
            "Model fingerprint: 0xf1f792f7\n",
            "Variable types: 384 continuous, 792 integer (792 binary)\n",
            "Coefficient statistics:\n",
            "  Matrix range     [1e+00, 4e+05]\n",
            "  Objective range  [2e-03, 1e+00]\n",
            "  Bounds range     [1e+00, 1e+00]\n",
            "  RHS range        [1e+00, 8e+05]\n",
            "Presolve removed 389 rows and 338 columns\n",
            "Presolve time: 0.02s\n",
            "Presolved: 1033 rows, 838 columns, 4255 nonzeros\n",
            "Variable types: 382 continuous, 456 integer (456 binary)\n",
            "\n",
            "Root relaxation: objective 6.025434e+00, 1079 iterations, 0.05 seconds (0.04 work units)\n",
            "\n",
            "    Nodes    |    Current Node    |     Objective Bounds      |     Work\n",
            " Expl Unexpl |  Obj  Depth IntInf | Incumbent    BestBd   Gap | It/Node Time\n",
            "\n",
            "     0     0    6.02543    0  291          -    6.02543      -     -    0s\n",
            "     0     0    6.81388    0  309          -    6.81388      -     -    0s\n",
            "     0     0    6.82200    0  315          -    6.82200      -     -    0s\n",
            "     0     0    7.00790    0  341          -    7.00790      -     -    0s\n",
            "     0     0    7.02601    0  319          -    7.02601      -     -    0s\n",
            "     0     0    7.02684    0  328          -    7.02684      -     -    0s\n",
            "     0     0    7.11036    0  297          -    7.11036      -     -    0s\n",
            "     0     0    7.11611    0  356          -    7.11611      -     -    0s\n",
            "     0     0    7.11648    0  353          -    7.11648      -     -    0s\n",
            "     0     0    7.13867    0  295          -    7.13867      -     -    0s\n",
            "     0     0    7.14400    0  304          -    7.14400      -     -    0s\n",
            "     0     0    7.14858    0  304          -    7.14858      -     -    0s\n",
            "     0     2    7.15051    0  304          -    7.15051      -     -    1s\n",
            "   444   381   20.71452   51   56          -    8.30820      -  95.7    5s\n",
            "   580   492    8.35974    5  310          -    8.31087      -  91.0   10s\n",
            "   598   506   10.30051   23  230          -    8.31087      -  13.0   15s\n",
            "   763   594   15.83504   43  114          -    8.31087      -  33.3   20s\n",
            "  1178   810   12.73450   47    8          -    8.31087      -  57.7   25s\n",
            "  1654  1012   12.08355   42  167          -    8.94227      -  72.5   30s\n",
            "  2251  1387   10.28895   21  220          -    9.31014      -  78.7   35s\n",
            "  3073  2056   11.98414   27  259          -    9.58673      -  82.5   40s\n",
            "  3646  2514   19.48151   44  152          -    9.63440      -  86.6   45s\n",
            "  4178  2935 infeasible   40               -    9.68829      -  88.9   50s\n",
            "  4854  3425   19.99316   50  168          -    9.75502      -  90.5   55s\n",
            "  5360  3793   14.50505   52   24          -    9.87931      -  93.5   60s\n",
            "  5928  4202   20.97482   73   99          -    9.89979      -  94.3   65s\n",
            "  6668  4769   16.07874   41  109          -    9.96920      -  93.7   70s\n",
            "  7677  5545   13.57127   23  267          -   10.05943      -  92.9   75s\n",
            "H 7833  3622                      17.3705569   10.06449  42.1%  93.2   76s\n",
            "  8077  3769   11.70358   21  202   17.37056   10.13438  41.7%  94.5   80s\n",
            "  8582  4081   11.59806   24  227   17.37056   10.21971  41.2%  96.4   85s\n",
            "  9059  4374   14.85010   45   96   17.37056   10.30569  40.7%  98.5   90s\n",
            "H 9067  4181                      17.0349218   10.30569  39.5%  98.5   90s\n",
            "H 9120  3267                      15.7568448   10.31289  34.5%  98.5   90s\n",
            "  9349  3383   13.37776   27  182   15.75684   10.33837  34.4%  98.7   95s\n",
            "H 9407  2768                      14.9532332   10.36084  30.7%  98.7   96s\n",
            "H 9447  1556                      13.3930655   10.36857  22.6%  98.9   97s\n",
            "H 9513  1137                      12.8312880   10.38792  19.0%  99.1   98s\n",
            "  9620  1150   12.03046   29  273   12.83129   10.39896  19.0%   100  100s\n",
            "  9910  1209     cutoff   28        12.83129   10.47857  18.3%   101  105s\n",
            " 10080  1241   12.10647   26  194   12.83129   10.52195  18.0%   101  110s\n",
            "H10163  1009                      12.4446480   10.53125  15.4%   102  113s\n",
            " 10202  1008     cutoff   30        12.44465   10.54201  15.3%   102  127s\n",
            " 10340  1022   12.40271   29  193   12.44465   10.58643  14.9%   102  130s\n",
            " 10817  1055   11.76729   27  305   12.44465   10.73180  13.8%   104  135s\n",
            " 11304  1092     cutoff   26        12.44465   10.83345  12.9%   105  140s\n",
            " 11656  1087   11.90025   25  191   12.44465   10.92969  12.2%   106  145s\n",
            " 11979  1083   12.24713   25  266   12.44465   11.02045  11.4%   107  150s\n",
            "*12188   753              40      12.0096455   11.06251  7.89%   107  152s\n",
            " 12386   715   11.84397   23  310   12.00965   11.15010  7.16%   108  155s\n",
            " 12789   623   12.00714   29  196   12.00965   11.31110  5.82%   108  160s\n",
            " 13136   486   12.00595   26  234   12.00965   11.49890  4.25%   109  165s\n",
            " 13651   131     cutoff   29        12.00965   11.87911  1.09%   109  170s\n",
            "\n",
            "Cutting planes:\n",
            "  Gomory: 4\n",
            "  Cover: 13\n",
            "  Implied bound: 1\n",
            "  MIR: 24\n",
            "  Flow cover: 79\n",
            "  Inf proof: 10\n",
            "  Zero half: 1\n",
            "  RLT: 184\n",
            "  BQP: 102\n",
            "\n",
            "Explored 13782 nodes (1551797 simplex iterations) in 170.56 seconds (95.78 work units)\n",
            "Thread count was 2 (of 2 available processors)\n",
            "\n",
            "Solution count 8: 12.0096 12.4446 12.8313 ... 17.3706\n",
            "\n",
            "Optimal solution found (tolerance 1.00e-04)\n",
            "Best objective 1.200964554654e+01, best bound 1.200850621787e+01, gap 0.0095%\n"
          ]
        }
      ]
    },
    {
      "cell_type": "code",
      "source": [
        "print(\"The number of cut edges is\", model.objval)\n",
        "\n",
        "districts = [[i for i in G.nodes if x[i, j].x > 0.5] for j in range(num_partitions)]\n",
        "district_counties = [[G.nodes[i][\"NAME20\"] for i in districts[j]] for j in range(num_partitions)]\n",
        "district_populations = [sum(G.nodes[i][\"TOTPOP\"] for i in districts[j]) for j in range(num_partitions)]\n",
        "\n",
        "for j in range(num_partitions):\n",
        "    print(\"District\", j, \"has population\", district_populations[j], \"and contains counties\", district_counties[j])\n",
        "    print(\"\")\n"
      ],
      "metadata": {
        "colab": {
          "base_uri": "https://localhost:8080/"
        },
        "id": "DYIaCsl07r5i",
        "outputId": "7406b70c-f38b-4e70-ff2e-efd25ac41132"
      },
      "execution_count": null,
      "outputs": [
        {
          "output_type": "stream",
          "name": "stdout",
          "text": [
            "The number of cut edges is 12.00964554654077\n",
            "District 0 has population 750788 and contains counties ['Faulkner', 'Conway', 'Pulaski', 'Saline', 'Lonoke', 'Perry']\n",
            "\n",
            "District 1 has population 751754 and contains counties ['Franklin', 'Crawford', 'Benton', 'Madison', 'Sebastian', 'Washington']\n",
            "\n",
            "District 2 has population 754435 and contains counties ['Jackson', 'Clay', 'Baxter', 'Boone', 'St. Francis', 'Sharp', 'Greene', 'Woodruff', 'White', 'Lee', 'Crittenden', 'Marion', 'Prairie', 'Lawrence', 'Poinsett', 'Stone', 'Independence', 'Fulton', 'Carroll', 'Van Buren', 'Searcy', 'Randolph', 'Izard', 'Craighead', 'Cleburne', 'Monroe', 'Mississippi', 'Newton', 'Cross']\n",
            "\n",
            "District 3 has population 754547 and contains counties ['Little River', 'Ashley', 'Desha', 'Montgomery', 'Howard', 'Nevada', 'Grant', 'Dallas', 'Cleveland', 'Lafayette', 'Chicot', 'Pope', 'Bradley', 'Drew', 'Pike', 'Union', 'Hempstead', 'Polk', 'Clark', 'Logan', 'Miller', 'Arkansas', 'Johnson', 'Garland', 'Sevier', 'Jefferson', 'Lincoln', 'Scott', 'Hot Spring', 'Columbia', 'Ouachita', 'Yell', 'Calhoun', 'Phillips']\n",
            "\n"
          ]
        }
      ]
    },
    {
      "cell_type": "code",
      "source": [
        "import geopandas as gpd\n",
        "\n",
        "filepath = '/content/'\n",
        "filename = 'Arkansas_county.shp'\n",
        "df = gpd.read_file( filepath + filename)"
      ],
      "metadata": {
        "id": "mM34zsOB8NFI"
      },
      "execution_count": null,
      "outputs": []
    },
    {
      "cell_type": "code",
      "source": [
        "!pip install geopandas"
      ],
      "metadata": {
        "colab": {
          "base_uri": "https://localhost:8080/"
        },
        "id": "NLD8mfxXLTcW",
        "outputId": "26f9b4a6-460c-4d9b-d726-f07b7d7195f5"
      },
      "execution_count": null,
      "outputs": [
        {
          "output_type": "stream",
          "name": "stdout",
          "text": [
            "Requirement already satisfied: geopandas in /usr/local/lib/python3.10/dist-packages (0.13.2)\n",
            "Requirement already satisfied: fiona>=1.8.19 in /usr/local/lib/python3.10/dist-packages (from geopandas) (1.9.5)\n",
            "Requirement already satisfied: packaging in /usr/local/lib/python3.10/dist-packages (from geopandas) (23.2)\n",
            "Requirement already satisfied: pandas>=1.1.0 in /usr/local/lib/python3.10/dist-packages (from geopandas) (1.5.3)\n",
            "Requirement already satisfied: pyproj>=3.0.1 in /usr/local/lib/python3.10/dist-packages (from geopandas) (3.6.1)\n",
            "Requirement already satisfied: shapely>=1.7.1 in /usr/local/lib/python3.10/dist-packages (from geopandas) (2.0.2)\n",
            "Requirement already satisfied: attrs>=19.2.0 in /usr/local/lib/python3.10/dist-packages (from fiona>=1.8.19->geopandas) (23.1.0)\n",
            "Requirement already satisfied: certifi in /usr/local/lib/python3.10/dist-packages (from fiona>=1.8.19->geopandas) (2023.11.17)\n",
            "Requirement already satisfied: click~=8.0 in /usr/local/lib/python3.10/dist-packages (from fiona>=1.8.19->geopandas) (8.1.7)\n",
            "Requirement already satisfied: click-plugins>=1.0 in /usr/local/lib/python3.10/dist-packages (from fiona>=1.8.19->geopandas) (1.1.1)\n",
            "Requirement already satisfied: cligj>=0.5 in /usr/local/lib/python3.10/dist-packages (from fiona>=1.8.19->geopandas) (0.7.2)\n",
            "Requirement already satisfied: six in /usr/local/lib/python3.10/dist-packages (from fiona>=1.8.19->geopandas) (1.16.0)\n",
            "Requirement already satisfied: setuptools in /usr/local/lib/python3.10/dist-packages (from fiona>=1.8.19->geopandas) (67.7.2)\n",
            "Requirement already satisfied: python-dateutil>=2.8.1 in /usr/local/lib/python3.10/dist-packages (from pandas>=1.1.0->geopandas) (2.8.2)\n",
            "Requirement already satisfied: pytz>=2020.1 in /usr/local/lib/python3.10/dist-packages (from pandas>=1.1.0->geopandas) (2023.3.post1)\n",
            "Requirement already satisfied: numpy>=1.21.0 in /usr/local/lib/python3.10/dist-packages (from pandas>=1.1.0->geopandas) (1.23.5)\n"
          ]
        }
      ]
    },
    {
      "cell_type": "code",
      "source": [
        "Func_assign = [ -1 for i in G.nodes ]\n",
        "\n",
        "labeling = { i : j for i in G.nodes for j in range(num_partitions) if x[i,j].x > 0.5 }\n",
        "\n",
        "node_with_this_geoid = { G.nodes[i]['GEOID20'] : i for i in G.nodes }\n",
        "\n",
        "for u in range(G.number_of_nodes()):\n",
        "\n",
        "    geoid = df['GEOID20'][u]\n",
        "    i = node_with_this_geoid[geoid]\n",
        "    Func_assign[u] = labeling[i]\n",
        "\n",
        "df['Func_assign'] = assignment\n",
        "my_fig = df.plot(column='Func_assign').get_figure()"
      ],
      "metadata": {
        "colab": {
          "base_uri": "https://localhost:8080/",
          "height": 430
        },
        "id": "qPtn9FSF8ZDT",
        "outputId": "5b7c65cc-0fb5-467a-a14b-332d6e9a4701"
      },
      "execution_count": null,
      "outputs": [
        {
          "output_type": "display_data",
          "data": {
            "text/plain": [
              "<Figure size 640x480 with 1 Axes>"
            ],
            "image/png": "[encoded data removed]"
          },
          "metadata": {}
        }
      ]
    }
  ]
}